{
 "cells": [
  {
   "cell_type": "code",
   "execution_count": 33,
   "id": "7b0014d7-6d6a-4405-9012-0ab4ae976ba8",
   "metadata": {
    "tags": []
   },
   "outputs": [
    {
     "name": "stdout",
     "output_type": "stream",
     "text": [
      "✅ Base de datos encontrada en: /Users/pablobasapacheco/Desktop/AI_Sales_Strategy/database/ai_sales_strategy.db\n"
     ]
    }
   ],
   "source": [
    "import os\n",
    "import sqlite3\n",
    "\n",
    "# Definir la ruta de la base de datos\n",
    "db_path = \"./ai_sales_strategy.db\"\n",
    "\n",
    "# Verificar si la base de datos existe\n",
    "if os.path.exists(db_path):\n",
    "    print(\"✅ Base de datos encontrada en:\", os.path.abspath(db_path))\n",
    "else:\n",
    "    print(\"❌ No se encontró la base de datos en:\", os.path.abspath(db_path))\n"
   ]
  },
  {
   "cell_type": "markdown",
   "id": "241b7862-0480-416a-9669-201c988893f8",
   "metadata": {
    "tags": []
   },
   "source": [
    "import os\n",
    "\n",
    "# Mostrar el directorio actual donde Jupyter está ejecutándose\n",
    "print(\"📌 Directorio actual:\", os.getcwd())\n"
   ]
  },
  {
   "cell_type": "markdown",
   "id": "b4180723-ff56-45b1-b188-7d592abff5e8",
   "metadata": {
    "tags": []
   },
   "source": [
    "os.chdir(\"./AI_Sales_Strategy/database\")\n",
    "print(\"📌 Nuevo directorio de trabajo:\", os.getcwd())\n"
   ]
  },
  {
   "cell_type": "code",
   "execution_count": 37,
   "id": "7dd00f64-cf62-41e9-a3f9-e16e776ae0cb",
   "metadata": {
    "tags": []
   },
   "outputs": [
    {
     "name": "stdout",
     "output_type": "stream",
     "text": [
      "🔹 Prospectos en la base de datos: 100000\n",
      "🔹 Empresas en la base de datos: 20\n",
      "🔹 Comentarios en la base de datos: 50000\n"
     ]
    }
   ],
   "source": [
    "conn = sqlite3.connect(db_path)\n",
    "cursor = conn.cursor()\n",
    "\n",
    "cursor.execute(\"SELECT COUNT(*) FROM prospects;\")\n",
    "print(\"🔹 Prospectos en la base de datos:\", cursor.fetchone()[0])\n",
    "\n",
    "cursor.execute(\"SELECT COUNT(*) FROM companies;\")\n",
    "print(\"🔹 Empresas en la base de datos:\", cursor.fetchone()[0])\n",
    "\n",
    "cursor.execute(\"SELECT COUNT(*) FROM comments;\")\n",
    "print(\"🔹 Comentarios en la base de datos:\", cursor.fetchone()[0])\n",
    "\n",
    "conn.close()\n"
   ]
  },
  {
   "cell_type": "code",
   "execution_count": null,
   "id": "6d02c117-090a-4404-87d2-e6d318656637",
   "metadata": {},
   "outputs": [],
   "source": []
  }
 ],
 "metadata": {
  "kernelspec": {
   "display_name": "Python 3 (ipykernel)",
   "language": "python",
   "name": "python3"
  },
  "language_info": {
   "codemirror_mode": {
    "name": "ipython",
    "version": 3
   },
   "file_extension": ".py",
   "mimetype": "text/x-python",
   "name": "python",
   "nbconvert_exporter": "python",
   "pygments_lexer": "ipython3",
   "version": "3.11.5"
  }
 },
 "nbformat": 4,
 "nbformat_minor": 5
}
