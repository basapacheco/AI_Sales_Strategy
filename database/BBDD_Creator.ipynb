{
 "cells": [
  {
   "cell_type": "code",
   "execution_count": 10,
   "id": "7b0014d7-6d6a-4405-9012-0ab4ae976ba8",
   "metadata": {
    "tags": []
   },
   "outputs": [
    {
     "name": "stdout",
     "output_type": "stream",
     "text": [
      "✅ Base de datos encontrada en: /Users/pablobasapacheco/Desktop/AI_Sales_Strategy/database/ai_sales_strategy.db\n"
     ]
    }
   ],
   "source": [
    "import os\n",
    "import sqlite3\n",
    "\n",
    "# Definir la ruta de la base de datos\n",
    "db_path = \"./ai_sales_strategy.db\"\n",
    "\n",
    "# Verificar si la base de datos existe\n",
    "if os.path.exists(db_path):\n",
    "    print(\"✅ Base de datos encontrada en:\", os.path.abspath(db_path))\n",
    "else:\n",
    "    print(\"❌ No se encontró la base de datos en:\", os.path.abspath(db_path))\n"
   ]
  },
  {
   "cell_type": "markdown",
   "id": "241b7862-0480-416a-9669-201c988893f8",
   "metadata": {
    "tags": []
   },
   "source": [
    "import os\n",
    "\n",
    "# Mostrar el directorio actual donde Jupyter está ejecutándose\n",
    "print(\"📌 Directorio actual:\", os.getcwd())\n"
   ]
  },
  {
   "cell_type": "code",
   "execution_count": 13,
   "id": "704f7d88-e68d-44d1-93d7-cb5c44446508",
   "metadata": {
    "tags": []
   },
   "outputs": [
    {
     "name": "stdout",
     "output_type": "stream",
     "text": [
      "📌 Directorio actual: /Users/pablobasapacheco/Desktop/AI_Sales_Strategy/database\n"
     ]
    }
   ],
   "source": [
    "print(\"📌 Directorio actual:\", os.getcwd())"
   ]
  },
  {
   "cell_type": "markdown",
   "id": "b4180723-ff56-45b1-b188-7d592abff5e8",
   "metadata": {
    "tags": []
   },
   "source": [
    "#cambiar de marldowna code su la ruta esta mal\n",
    "os.chdir(\"./AI_Sales_Strategy/database\")\n",
    "print(\"📌 Nuevo directorio de trabajo:\", os.getcwd())\n"
   ]
  },
  {
   "cell_type": "code",
   "execution_count": 16,
   "id": "8b61aa1d-4111-49c3-9917-a1ab89aeac8a",
   "metadata": {
    "tags": []
   },
   "outputs": [
    {
     "name": "stdout",
     "output_type": "stream",
     "text": [
      "📌 Tablas en la Base de Datos: [('companies',), ('comments',), ('prospects',), ('sqlite_sequence',), ('interactions',), ('user_levels',), ('users',)]\n",
      "✅ Todas las tablas necesarias están creadas.\n",
      "🔹 Registros en interactions: 0\n",
      "🔹 Registros en user_levels: 4\n",
      "🔹 Registros en comments: 50000\n",
      "🔹 Registros en prospects: 100000\n",
      "🔹 Registros en companies: 20\n",
      "🔹 Registros en users: 0\n",
      "✅ La columna 'memory' está presente en 'interactions'.\n"
     ]
    }
   ],
   "source": [
    "# Conectar con la base de datos\n",
    "conn = sqlite3.connect(db_path)\n",
    "cursor = conn.cursor()\n",
    "\n",
    "# Verificar todas las tablas creadas en la BD\n",
    "cursor.execute(\"SELECT name FROM sqlite_master WHERE type='table';\")\n",
    "tables = cursor.fetchall()\n",
    "print(\"📌 Tablas en la Base de Datos:\", tables)\n",
    "\n",
    "# Verificar que las nuevas tablas existen\n",
    "required_tables = {'prospects', 'companies', 'comments', 'users', 'user_levels', 'interactions'}\n",
    "existing_tables = {table[0] for table in tables}\n",
    "\n",
    "missing_tables = required_tables - existing_tables\n",
    "if missing_tables:\n",
    "    print(\"❌ Faltan las siguientes tablas en la base de datos:\", missing_tables)\n",
    "else:\n",
    "    print(\"✅ Todas las tablas necesarias están creadas.\")\n",
    "\n",
    "# Contar registros en cada tabla clave\n",
    "for table in required_tables:\n",
    "    cursor.execute(f\"SELECT COUNT(*) FROM {table};\")\n",
    "    count = cursor.fetchone()[0]\n",
    "    print(f\"🔹 Registros en {table}: {count}\")\n",
    "\n",
    "# Verificar si la columna `memory` está en `interactions`\n",
    "cursor.execute(\"PRAGMA table_info(interactions);\")\n",
    "columns = cursor.fetchall()\n",
    "column_names = [col[1] for col in columns]\n",
    "\n",
    "if \"memory\" in column_names:\n",
    "    print(\"✅ La columna 'memory' está presente en 'interactions'.\")\n",
    "else:\n",
    "    print(\"❌ La columna 'memory' no está en 'interactions'.\")\n",
    "\n",
    "# Cerrar conexión\n",
    "conn.close()\n"
   ]
  },
  {
   "cell_type": "code",
   "execution_count": null,
   "id": "6d02c117-090a-4404-87d2-e6d318656637",
   "metadata": {},
   "outputs": [],
   "source": []
  }
 ],
 "metadata": {
  "kernelspec": {
   "display_name": "Python 3 (ipykernel)",
   "language": "python",
   "name": "python3"
  },
  "language_info": {
   "codemirror_mode": {
    "name": "ipython",
    "version": 3
   },
   "file_extension": ".py",
   "mimetype": "text/x-python",
   "name": "python",
   "nbconvert_exporter": "python",
   "pygments_lexer": "ipython3",
   "version": "3.11.5"
  }
 },
 "nbformat": 4,
 "nbformat_minor": 5
}
