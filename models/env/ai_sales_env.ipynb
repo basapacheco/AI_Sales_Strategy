{
 "cells": [
  {
   "cell_type": "code",
   "execution_count": 1,
   "id": "fc3dce37-acc6-474d-a7ca-a1e73df1a2f7",
   "metadata": {
    "tags": []
   },
   "outputs": [],
   "source": [
    "from sqlalchemy import create_engine, Column, Integer, String, DateTime, Float, Text, ForeignKey\n",
    "from sqlalchemy.orm import declarative_base, relationship, sessionmaker\n",
    "from datetime import datetime\n",
    "import os"
   ]
  },
  {
   "cell_type": "code",
   "execution_count": 2,
   "id": "bba249cc-4149-46a2-ab33-d9e68de8ac37",
   "metadata": {},
   "outputs": [],
   "source": [
    "# Directorio base del proyecto\n",
    "BASE_DIR = os.path.abspath('')"
   ]
  },
  {
   "cell_type": "code",
   "execution_count": 3,
   "id": "f7bb9ee8-0ed8-4f7e-bdf0-c5fcb16dd9dd",
   "metadata": {},
   "outputs": [],
   "source": [
    "# Ruta exacta a tu base de datos SQLite\n",
    "db_path = os.path.join(BASE_DIR, 'database', 'ai_sales_strategy.db')"
   ]
  },
  {
   "cell_type": "code",
   "execution_count": 4,
   "id": "cc4cf880-9a6f-47aa-9101-71b3019ffbad",
   "metadata": {},
   "outputs": [],
   "source": [
    "# Crear motor\n",
    "engine = create_engine(f'sqlite:///{db_path}', echo=True)"
   ]
  },
  {
   "cell_type": "code",
   "execution_count": 5,
   "id": "79dee34b-5c15-469a-8310-6fe13ed99425",
   "metadata": {},
   "outputs": [],
   "source": [
    "# Declarar base\n",
    "Base = declarative_base()"
   ]
  },
  {
   "cell_type": "code",
   "execution_count": 6,
   "id": "727bac89-ba99-47f3-ace8-9b56da2091c2",
   "metadata": {},
   "outputs": [],
   "source": [
    "# Modelo Prospecto\n",
    "class Prospect(Base):\n",
    "    __tablename__ = 'prospects'\n",
    "\n",
    "    id = Column(Integer, primary_key=True)\n",
    "    name = Column(String(100), nullable=False)\n",
    "    email = Column(String(120), unique=True, nullable=False)\n",
    "    company = Column(String(100), nullable=False)\n",
    "    phone = Column(String(20))\n",
    "    created_at = Column(DateTime, default=datetime.utcnow)\n",
    "\n",
    "    negotiations = relationship('Negotiation', back_populates='prospect')\n",
    "\n",
    "# Modelo Negociación\n",
    "class Negotiation(Base):\n",
    "    __tablename__ = 'negotiations'\n",
    "\n",
    "    id = Column(Integer, primary_key=True, autoincrement=True)\n",
    "    prospect_id = Column(Integer, ForeignKey('prospects.id'))\n",
    "    status = Column(String(50), default='En Proceso')\n",
    "    start_date = Column(DateTime, default=datetime.utcnow)\n",
    "    estimated_close_date = Column(DateTime)\n",
    "    value = Column(Float)\n",
    "\n",
    "    prospect = relationship('Prospect', back_populates='negotiations')\n",
    "    interactions = relationship('Interaction', back_populates='negotiation')\n",
    "\n",
    "# Modelo Interacción\n",
    "class Interaction(Base):\n",
    "    __tablename__ = 'interactions'\n",
    "\n",
    "    id = Column(Integer, primary_key=True)\n",
    "    negotiation_id = Column(Integer, ForeignKey('negotiations.id'))\n",
    "    date = Column(DateTime, default=datetime.utcnow)\n",
    "    notes = Column(Text)\n",
    "\n",
    "    negotiation = relationship('Negotiation', back_populates='interactions')\n"
   ]
  },
  {
   "cell_type": "code",
   "execution_count": 7,
   "id": "7b244fd2-5890-43e5-9e70-05eedd1957b3",
   "metadata": {},
   "outputs": [
    {
     "name": "stdout",
     "output_type": "stream",
     "text": [
      "2025-03-09 09:55:08,240 INFO sqlalchemy.engine.Engine BEGIN (implicit)\n",
      "2025-03-09 09:55:08,241 INFO sqlalchemy.engine.Engine PRAGMA main.table_info(\"prospects\")\n",
      "2025-03-09 09:55:08,242 INFO sqlalchemy.engine.Engine [raw sql] ()\n",
      "2025-03-09 09:55:08,244 INFO sqlalchemy.engine.Engine PRAGMA temp.table_info(\"prospects\")\n",
      "2025-03-09 09:55:08,245 INFO sqlalchemy.engine.Engine [raw sql] ()\n",
      "2025-03-09 09:55:08,249 INFO sqlalchemy.engine.Engine PRAGMA main.table_info(\"negotiations\")\n",
      "2025-03-09 09:55:08,252 INFO sqlalchemy.engine.Engine [raw sql] ()\n",
      "2025-03-09 09:55:08,253 INFO sqlalchemy.engine.Engine PRAGMA temp.table_info(\"negotiations\")\n",
      "2025-03-09 09:55:08,254 INFO sqlalchemy.engine.Engine [raw sql] ()\n",
      "2025-03-09 09:55:08,256 INFO sqlalchemy.engine.Engine PRAGMA main.table_info(\"interactions\")\n",
      "2025-03-09 09:55:08,257 INFO sqlalchemy.engine.Engine [raw sql] ()\n",
      "2025-03-09 09:55:08,260 INFO sqlalchemy.engine.Engine PRAGMA temp.table_info(\"interactions\")\n",
      "2025-03-09 09:55:08,261 INFO sqlalchemy.engine.Engine [raw sql] ()\n",
      "2025-03-09 09:55:08,264 INFO sqlalchemy.engine.Engine \n",
      "CREATE TABLE prospects (\n",
      "\tid INTEGER NOT NULL, \n",
      "\tname VARCHAR(100) NOT NULL, \n",
      "\temail VARCHAR(120) NOT NULL, \n",
      "\tcompany VARCHAR(100) NOT NULL, \n",
      "\tphone VARCHAR(20), \n",
      "\tcreated_at DATETIME, \n",
      "\tPRIMARY KEY (id), \n",
      "\tUNIQUE (email)\n",
      ")\n",
      "\n",
      "\n",
      "2025-03-09 09:55:08,267 INFO sqlalchemy.engine.Engine [no key 0.00274s] ()\n",
      "2025-03-09 09:55:08,271 INFO sqlalchemy.engine.Engine \n",
      "CREATE TABLE negotiations (\n",
      "\tid INTEGER NOT NULL, \n",
      "\tprospect_id INTEGER, \n",
      "\tstatus VARCHAR(50), \n",
      "\tstart_date DATETIME, \n",
      "\testimated_close_date DATETIME, \n",
      "\tvalue FLOAT, \n",
      "\tPRIMARY KEY (id), \n",
      "\tFOREIGN KEY(prospect_id) REFERENCES prospects (id)\n",
      ")\n",
      "\n",
      "\n",
      "2025-03-09 09:55:08,272 INFO sqlalchemy.engine.Engine [no key 0.00129s] ()\n",
      "2025-03-09 09:55:08,276 INFO sqlalchemy.engine.Engine \n",
      "CREATE TABLE interactions (\n",
      "\tid INTEGER NOT NULL, \n",
      "\tnegotiation_id INTEGER, \n",
      "\tdate DATETIME, \n",
      "\tnotes TEXT, \n",
      "\tPRIMARY KEY (id), \n",
      "\tFOREIGN KEY(negotiation_id) REFERENCES negotiations (id)\n",
      ")\n",
      "\n",
      "\n",
      "2025-03-09 09:55:08,277 INFO sqlalchemy.engine.Engine [no key 0.00103s] ()\n",
      "2025-03-09 09:55:08,281 INFO sqlalchemy.engine.Engine COMMIT\n",
      "✅ Tablas de datos creadas correctamente.\n"
     ]
    }
   ],
   "source": [
    "# Crear motor y tablas\n",
    "engine = create_engine(f'sqlite:///{db_path}', echo=True)\n",
    "\n",
    "Base.metadata.create_all(engine)\n",
    "\n",
    "print(\"✅ Tablas de datos creadas correctamente.\")\n"
   ]
  },
  {
   "cell_type": "code",
   "execution_count": null,
   "id": "6ecc9e5f-12da-4a9c-b164-0f417e5acd28",
   "metadata": {},
   "outputs": [],
   "source": []
  }
 ],
 "metadata": {
  "kernelspec": {
   "display_name": "Python 3 (ipykernel)",
   "language": "python",
   "name": "python3"
  },
  "language_info": {
   "codemirror_mode": {
    "name": "ipython",
    "version": 3
   },
   "file_extension": ".py",
   "mimetype": "text/x-python",
   "name": "python",
   "nbconvert_exporter": "python",
   "pygments_lexer": "ipython3",
   "version": "3.11.5"
  }
 },
 "nbformat": 4,
 "nbformat_minor": 5
}
